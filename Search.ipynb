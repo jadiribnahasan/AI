{
  "nbformat": 4,
  "nbformat_minor": 0,
  "metadata": {
    "colab": {
      "name": "Search.ipynb",
      "provenance": [],
      "collapsed_sections": [],
      "authorship_tag": "ABX9TyOPbb9LVGaCZFhE5RDar0+v",
      "include_colab_link": true
    },
    "kernelspec": {
      "name": "python3",
      "display_name": "Python 3"
    }
  },
  "cells": [
    {
      "cell_type": "markdown",
      "metadata": {
        "id": "view-in-github",
        "colab_type": "text"
      },
      "source": [
        "<a href=\"https://colab.research.google.com/github/jadiribnahasan/AI/blob/master/Search.ipynb\" target=\"_parent\"><img src=\"https://colab.research.google.com/assets/colab-badge.svg\" alt=\"Open In Colab\"/></a>"
      ]
    },
    {
      "cell_type": "code",
      "metadata": {
        "id": "aAnHntz8pagj",
        "colab_type": "code",
        "colab": {}
      },
      "source": [
        "#MinPriorityqueue\n",
        "\n",
        "class MinPriorityQueue:\n",
        "  \n",
        "  def __init__(self):\n",
        "    self.queue = list()\n",
        "    # if you want you can set a maximum size for the queue\n",
        "    \n",
        "  def push(self, node):\n",
        "    # if queue is empty\n",
        "    if self.size() == 0:\n",
        "      # add the new node\n",
        "      self.queue.append(node)\n",
        "    else:\n",
        "      # traverse the queue to find the right place for new node\n",
        "      for x in range(0, self.size()):\n",
        "        # if the priority of new node is greater\n",
        "        if node.f >= self.queue[x].f:\n",
        "          # if we have traversed the complete queue\n",
        "          if x == (self.size()-1):\n",
        "            # add new node at the end\n",
        "            self.queue.insert(x+1, node)\n",
        "          else:\n",
        "            continue\n",
        "        else:\n",
        "          self.queue.insert(x, node)\n",
        "          return True\n",
        "  \n",
        "  def pop(self):\n",
        "    # remove the first node from the queue\n",
        "    return self.queue.pop(0)\n",
        "    \n",
        "  def show(self):\n",
        "    for x in self.queue:\n",
        "      print(str(x.info) + \" - \" + str(x.priority))\n",
        "  \n",
        "  def size(self):\n",
        "    return len(self.queue)\n",
        "\n",
        "\n"
      ],
      "execution_count": 0,
      "outputs": []
    },
    {
      "cell_type": "code",
      "metadata": {
        "id": "_JlNOlrM5S4k",
        "colab_type": "code",
        "colab": {
          "base_uri": "https://localhost:8080/",
          "height": 153
        },
        "outputId": "fb61a6e5-c63e-4198-ebb1-f7b420cf823a"
      },
      "source": [
        "#A* Search for a maze problem\n",
        "\n",
        "import numpy as np\n",
        "\n",
        "class Node:\n",
        "\n",
        "  def __init__(self , parent=None , position=None):\n",
        "    self.parent = parent\n",
        "    self.position = position\n",
        "    self.g = 0\n",
        "    self.h = 0\n",
        "    self.f = 0\n",
        "  def __eq__(self , other):\n",
        "    return self.position == other.position\n",
        "\n",
        "\n",
        "def returnPath(maze , currentNode):\n",
        "  rows , columns = np.shape(maze)\n",
        "  path = []\n",
        "  while currentNode is not None:\n",
        "    path.append(currentNode.position)\n",
        "    currentNode = currentNode.parent\n",
        "  \n",
        "  path = path[::-1]\n",
        "\n",
        "  startValue = 0\n",
        "  result = [[-1 for i in range(columns)] for j in range(rows)]\n",
        "  for p in path:\n",
        "    result[p[0]][p[1]] = startValue\n",
        "    startValue += 1\n",
        "  \n",
        "  return result\n",
        "\n",
        "\n",
        "def search(maze , start , end):\n",
        "\n",
        "  rows , column = np.shape(maze)\n",
        "  \n",
        "  startNode = Node(None , start)\n",
        "  goalNode = Node(None , end)\n",
        "\n",
        "  startNode.g = startNode.h = startNode.f = 0\n",
        "  goalNode.g = goalNode.h = goalNode.f = 0\n",
        "\n",
        "  minQ = MinPriorityQueue()\n",
        "  minQ.push(startNode)\n",
        "\n",
        "  moves = [[0 , 1],  #go right\n",
        "          [0 , -1], #go left\n",
        "          [1 , 0],  #go up\n",
        "          [-1 , 0]] #go down\n",
        "\n",
        "  while minQ.size() > 0:\n",
        "\n",
        "    currentNode = minQ.pop()\n",
        "\n",
        "    if currentNode == goalNode:\n",
        "      print(\"Find the goal\")\n",
        "      print(currentNode.g)\n",
        "      return returnPath(maze , currentNode)\n",
        "      return\n",
        "\n",
        "    childrens = []\n",
        "\n",
        "    for move in moves:\n",
        "\n",
        "      movePosition = [move[0]+currentNode.position[0] , move[1]+currentNode.position[1]]\n",
        "      if(movePosition[0] >= rows or  movePosition[0] < 0 or movePosition[1] >= column or movePosition[1] < 0): # Out of the maze\n",
        "        continue\n",
        "      if maze[movePosition[0]][movePosition[1]] == 1:  #Blocked Cell\n",
        "        continue\n",
        "      \n",
        "      newNode = Node(currentNode , movePosition)\n",
        "\n",
        "      childrens.append(newNode)\n",
        "\n",
        "    for child in childrens:\n",
        "\n",
        "      child.g = child.parent.g+1\n",
        "      child.h = (((child.position[0] - goalNode.position[0]) **2) + ((child.position[1] - goalNode.position[1]) **2))\n",
        "      child.f = child.g + child.h\n",
        "      minQ.push(child)\n",
        "    \n",
        "\n",
        "\n",
        "\n",
        "if __name__ == '__main__':\n",
        "  maze = [\n",
        "          [0 , 1 , 0 , 0 , 0 , 0 ],\n",
        "          [0 , 1 , 0 , 1 , 0 , 0 ],\n",
        "          [0 , 1 , 0 , 1 , 0 , 0 ],\n",
        "          [0 , 1 , 0 , 1 , 0 , 0 ],\n",
        "          [0 , 0 , 0 , 1 , 0 , 0 ]]\n",
        "\n",
        "  start = [0,0]\n",
        "  end = [3,4]\n",
        "  path = search(maze , start , end)\n",
        "  x = np.shape(path)\n",
        "  for i in range(x[0]):\n",
        "    print(path[i:i+1:])"
      ],
      "execution_count": 75,
      "outputs": [
        {
          "output_type": "stream",
          "text": [
            "Find the goal\n",
            "15\n",
            "5\n",
            "[[0, -1, 10, 11, 12, -1]]\n",
            "[[1, -1, 9, -1, 13, -1]]\n",
            "[[2, -1, 8, -1, 14, -1]]\n",
            "[[3, -1, 7, -1, 15, -1]]\n",
            "[[4, 5, 6, -1, -1, -1]]\n"
          ],
          "name": "stdout"
        }
      ]
    },
    {
      "cell_type": "code",
      "metadata": {
        "id": "EIrNBNcOICP0",
        "colab_type": "code",
        "colab": {
          "base_uri": "https://localhost:8080/",
          "height": 34
        },
        "outputId": "73990084-1858-4ebd-e8e2-65b42cde38f3"
      },
      "source": [
        "t = [2,3]\n",
        "print(t)"
      ],
      "execution_count": 49,
      "outputs": [
        {
          "output_type": "stream",
          "text": [
            "[2, 3]\n"
          ],
          "name": "stdout"
        }
      ]
    }
  ]
}